{
 "metadata": {
  "language_info": {
   "codemirror_mode": {
    "name": "ipython",
    "version": 3
   },
   "file_extension": ".py",
   "mimetype": "text/x-python",
   "name": "python",
   "nbconvert_exporter": "python",
   "pygments_lexer": "ipython3",
   "version": "3.8.5"
  },
  "orig_nbformat": 2,
  "kernelspec": {
   "name": "python385jvsc74a57bd0f38a3fffd79a646bc0b2b6d5516527aca7770a22ea93a4e3b60b13168a4d9b93",
   "display_name": "Python 3.8.5 64-bit ('base': conda)"
  }
 },
 "nbformat": 4,
 "nbformat_minor": 2,
 "cells": [
  {
   "cell_type": "code",
   "execution_count": null,
   "metadata": {},
   "outputs": [],
   "source": [
    "# https://www.acmicpc.net/problem/18258\n",
    "\n",
    "import sys\n",
    "from collections import deque\n",
    "n = int(sys.stdin.readline())\n",
    "q = deque([])\n",
    "for i in range(n):\n",
    "    s = sys.stdin.readline().split()\n",
    "    if s[0] == 'push':\n",
    "        q.append(s[1])\n",
    "    elif s[0] == 'pop':\n",
    "        if not q:\n",
    "            print(-1)\n",
    "        else:\n",
    "            print(q.popleft())\n",
    "    elif s[0] == 'size':\n",
    "        print(len(q))\n",
    "    elif s[0] == 'empty':\n",
    "        if not q:\n",
    "            print(1)\n",
    "        else:\n",
    "            print(0)\n",
    "    elif s[0] == 'front':\n",
    "        if not q:\n",
    "            print(-1)\n",
    "        else:\n",
    "            print(q[0])\n",
    "    elif s[0] == 'back':\n",
    "        if not q:\n",
    "            print(-1)\n",
    "        else:\n",
    "            print(q[-1])"
   ]
  },
  {
   "cell_type": "code",
   "execution_count": null,
   "metadata": {},
   "outputs": [],
   "source": [
    "# https://www.acmicpc.net/problem/2164\n",
    "# 야매풀이\n",
    "import math\n",
    "a = int(input())\n",
    "print(1 if a == 1 else (a-2**int(math.log2(a-1)))*2)"
   ]
  },
  {
   "cell_type": "code",
   "execution_count": null,
   "metadata": {},
   "outputs": [],
   "source": [
    "# https://www.acmicpc.net/problem/11866\n",
    "\n",
    "from collections import deque\n",
    "n, k = map(int,input().split())\n",
    "q = deque([i for i in range(1,n+1)])\n",
    "\n",
    "result = []\n",
    "cnt = 0\n",
    "while q:\n",
    "    cnt+=1\n",
    "    v = q.popleft()\n",
    "    if cnt == k:\n",
    "        cnt = 0\n",
    "        result.append(v)\n",
    "    else:\n",
    "        q.append(v)\n",
    "\n",
    "print('<',end='')\n",
    "r = \"\"\n",
    "for i in result:\n",
    "    r+=f\"{i}, \"\n",
    "print(r[:-2], end='')\n",
    "print('>',end='')"
   ]
  },
  {
   "cell_type": "code",
   "execution_count": null,
   "metadata": {},
   "outputs": [],
   "source": [
    "# https://www.acmicpc.net/problem/1966\n",
    "# https://pacific-ocean.tistory.com/234\n",
    "t = int(input())\n",
    "for i in range(t):\n",
    "    n, m = map(int, input().split())\n",
    "    s = list(map(int, input().split()))\n",
    "    s_ = [0 for i in range(n)]\n",
    "    s_[m] = 1\n",
    "    cnt = 0\n",
    "    while True:\n",
    "        if s[0] == max(s):\n",
    "            cnt += 1\n",
    "            if s_[0] == 1:\n",
    "                print(cnt)\n",
    "                break\n",
    "            else:\n",
    "                del s[0]\n",
    "                del s_[0]\n",
    "        else:\n",
    "            s.append(s[0])\n",
    "            del s[0]\n",
    "            s_.append(s_[0])\n",
    "            del s_[0]"
   ]
  }
 ]
}