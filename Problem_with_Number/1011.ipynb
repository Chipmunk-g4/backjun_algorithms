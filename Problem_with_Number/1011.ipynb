{
 "metadata": {
  "language_info": {
   "codemirror_mode": {
    "name": "ipython",
    "version": 3
   },
   "file_extension": ".py",
   "mimetype": "text/x-python",
   "name": "python",
   "nbconvert_exporter": "python",
   "pygments_lexer": "ipython3",
   "version": "3.8.5"
  },
  "orig_nbformat": 2,
  "kernelspec": {
   "name": "python385jvsc74a57bd0f38a3fffd79a646bc0b2b6d5516527aca7770a22ea93a4e3b60b13168a4d9b93",
   "display_name": "Python 3.8.5 64-bit ('base': conda)"
  }
 },
 "nbformat": 4,
 "nbformat_minor": 2,
 "cells": [
  {
   "cell_type": "code",
   "execution_count": 1,
   "metadata": {},
   "outputs": [
    {
     "output_type": "stream",
     "name": "stdout",
     "text": [
      "34\n(25, 9, 5)\n11\n"
     ]
    }
   ],
   "source": [
    "# https://www.acmicpc.net/problem/1011\n",
    "\n",
    "\"\"\"\n",
    "공간이동 장치 이동 가능 거리(속도) : k-1, k, k+1 (이전 단계에서 이동한 거리가 k인 경우))\n",
    "t0 이동 가능 거리(속도)): -1 0 1\n",
    "도착 직전에는 무조건 이동거리를 1로 한다. => tdday : 1 2 3 or 0 1 2 or -1 0 1\n",
    "\n",
    "* ti 시점 가속도 변경 가능 선택지 : -1 0 1\n",
    "\n",
    "=> 물리문제로 x축 : 시점(시간), y축 : 속도 그래프를 그렸을 때 그래프아래의 넓이가 이동거리\n",
    "   이때 모든 지점에서 그래프는 기울기를 가지지 않는다. (아래처럼 생김)\n",
    "   |   ___\n",
    "   |  _   _\n",
    "   |__     __\n",
    "   |_________\n",
    "=> 가속과 감속은 1칸씩 밖에 이동할 수 없다\n",
    "   즉, 그래프는 위로 볼록하다 (혹선 직선 (거리가 3인 경우))\n",
    "   이 중 중간 시간에서 대칭이 되는 시간들은 다음과 같다. (전부 위로 복록한 피라미드 모양)\n",
    "   1(1) 2(11) 3(111) 4(121) 9(12321) 16(1234321) 25 (123454321) 36 (12345654321) .....\n",
    "        +1    +1     +1     +5       +7          +9             +11\n",
    "   앞부분을 제외하면 뒤에서는 +2의 가속도를 가지고 증가한다.\n",
    "   이때 예를들어 30과 같은 거리는 25 + 5로 이해할 수 있으며, 1234554321 로 5를 추가하여 계산될 수 있다.\n",
    "                34와 같은 거리는 25 + 9(5+4)로 이해할 수 있으며, 12345544321 로 5, 4를 추가하여 계산될 수 있다.\n",
    "   즉, 각 피라미드 사이에 존재하는 숫자들은 중간에 속도를 유지함으로써 해당 거리를 얻어올 수 있으며,\n",
    "   여기에서 유지될 속도를 피라미드의 최대 높이 이하의 속도중 가장 적은 조합으로 계산함으로써 최소 시점을 얻을 수 있다. \n",
    "\n",
    "=> 그러므로 알고지름은 다음과 같다.\n",
    "   1. 입력된 거리가 속한 피라미드 확인 및 해당 피라미드의 시간, 최대높이 반환\n",
    "   2. 해당 피라미드의 최대 높이를 기준으로 가장 적은 속도 조합으로 경로 만들기\n",
    "\"\"\"\n",
    "\n",
    "def find_std_pyramid(x):\n",
    "    if x in [1,2,3]:\n",
    "        return x, x, 1\n",
    "    else:\n",
    "        now_pyramid = 4\n",
    "        now_height = 2\n",
    "        now_time = 3\n",
    "        now_add = 5\n",
    "        while(now_pyramid < 2**31):\n",
    "            next_pyramid = now_pyramid + now_add\n",
    "            if now_pyramid <= x and x < next_pyramid:\n",
    "                return now_pyramid, now_time, now_height\n",
    "            \n",
    "            now_pyramid = next_pyramid\n",
    "            now_height += 1\n",
    "            now_time += 2\n",
    "            now_add = now_add + 2\n",
    "\n",
    "def find_shortest_time(remain, max_bar):\n",
    "    return remain // max_bar + (1 if remain%max_bar != 0 else 0)\n",
    "\n",
    "tc = int(input())\n",
    "\n",
    "for _ in range(tc):\n",
    "    [x,y] = list(map(int,input().split()))\n",
    "    length = y-x\n",
    "    now_pyramid, now_time, now_height = find_std_pyramid(length)\n",
    "\n",
    "    remain = length - now_pyramid\n",
    "    result = now_time + find_shortest_time(remain, now_height)\n",
    "\n",
    "    print(result)"
   ]
  }
 ]
}