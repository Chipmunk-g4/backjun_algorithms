{
 "metadata": {
  "language_info": {
   "codemirror_mode": {
    "name": "ipython",
    "version": 3
   },
   "file_extension": ".py",
   "mimetype": "text/x-python",
   "name": "python",
   "nbconvert_exporter": "python",
   "pygments_lexer": "ipython3",
   "version": "3.8.5"
  },
  "orig_nbformat": 2,
  "kernelspec": {
   "name": "python385jvsc74a57bd0f38a3fffd79a646bc0b2b6d5516527aca7770a22ea93a4e3b60b13168a4d9b93",
   "display_name": "Python 3.8.5 64-bit ('base': conda)"
  }
 },
 "nbformat": 4,
 "nbformat_minor": 2,
 "cells": [
  {
   "cell_type": "code",
   "execution_count": 10,
   "metadata": {},
   "outputs": [
    {
     "output_type": "stream",
     "name": "stdout",
     "text": [
      "0\n"
     ]
    }
   ],
   "source": [
    "# https://www.acmicpc.net/problem/2580\n",
    "\n",
    "import sys\n",
    "\n",
    "# 가로, 세로, 3x3\n",
    "board = [[[] for _ in range(9)] for __ in range(3)]\n",
    "task = []\n",
    "\n",
    "# x, y : 0~8 -> 3x3 index\n",
    "def xy_to_33(x,y):\n",
    "    return 3*(y//3) + x//3\n",
    "\n",
    "def find_remains(x,y):\n",
    "    remains = []\n",
    "    for r in range(1,10):\n",
    "        if r in board[0][y] or r in board[1][x] or r in board[2][xy_to_33(x,y)]:\n",
    "            continue\n",
    "        else:\n",
    "            remains.append(r)\n",
    "    return remains\n",
    "\n",
    "def place_num(x,y,v):\n",
    "    board[0][y][x] = v\n",
    "    board[1][x][y] = v\n",
    "    board[2][xy_to_33(x,y)][3*(y%3) + x%3] = v\n",
    "\n",
    "def sudoku(task):\n",
    "    if len(task) == 0:\n",
    "        return True\n",
    "\n",
    "    now_task = task[-1]\n",
    "    now_remain = find_remains(now_task[0], now_task[1])\n",
    "\n",
    "    if len(now_remain) == 0:\n",
    "        return False\n",
    "\n",
    "    result = False\n",
    "    for r in now_remain:\n",
    "        place_num(now_task[0], now_task[1],r)\n",
    "        if sudoku(task[:-1]):\n",
    "            result = True\n",
    "            break\n",
    "        place_num(now_task[0], now_task[1],0)\n",
    "    return result\n",
    "\n",
    "def show_board():\n",
    "    for y in range(9):\n",
    "        print(' '.join(map(str,board[0][y])))\n",
    "\n",
    "for y in range(9):\n",
    "    innum = list(map(int,sys.stdin.readline().split()))\n",
    "    for x in range(len(innum)):\n",
    "        board[0][y].append(innum[x])\n",
    "        board[1][x].append(innum[x])\n",
    "        board[2][xy_to_33(x,y)].append(innum[x])\n",
    "        if innum[x] == 0:\n",
    "            task.append((x,y))\n",
    "\n",
    "sudoku(task)\n",
    "show_board()\n",
    "\n",
    "\"\"\"\n",
    "0 0 0 0 0 0 0 0 0\n",
    "0 0 0 0 0 0 0 0 0\n",
    "0 0 0 0 0 0 0 0 0\n",
    "0 0 0 0 0 0 0 0 0\n",
    "0 0 0 0 0 0 0 0 0\n",
    "0 0 0 0 0 0 0 0 0\n",
    "0 0 0 0 0 0 0 0 0\n",
    "0 0 0 0 0 0 0 0 0\n",
    "0 0 0 0 0 0 0 0 0\n",
    "\"\"\""
   ]
  }
 ]
}