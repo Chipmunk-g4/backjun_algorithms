{
 "cells": [
  {
   "cell_type": "code",
   "execution_count": null,
   "source": [
    "# https://www.acmicpc.net/problem/2629\n",
    "\n",
    "\"\"\"\n",
    "입력된 추들 중 일부를 선택하여 무게들을 더하거나 빼서 구슬의 무게를 만들 수 있는지 없는지를 구하면 된다.\n",
    "=> knapsack 알고리즘을 응용하자\n",
    "=> n*max(nl)크기의 dp를 사용하여, nl의 오름차순으로 탐색하여 각 무게가 만들어질 수 있는지 저장\n",
    "   그리고 나서 해당 무게와 dp에 있는 값이 True, False이므로 출력 가능\n",
    "\"\"\"\n",
    "\n",
    "\"\"\"\n",
    "틀린 코드\n",
    "아마 +, - 를 동시에 계산한게 문제였던 것 같다.\n",
    "따로 계산해보자\n",
    "\"\"\"\n",
    "\n",
    "n = int(input())\n",
    "nl = list(map(int,input().split()))\n",
    "m = int(input())\n",
    "ml = list(map(int,input().split()))\n",
    "\n",
    "maxv = sum(nl)\n",
    "\n",
    "dp = [[False]*(maxv+1) for _ in range(n+1)]\n",
    "dp[0][0] = dp[0][-1] = True\n",
    "\n",
    "for i in range(1,n+1):\n",
    "    for j in range(maxv+1):\n",
    "        now_w = nl[i-1]\n",
    "        if now_w == j:\n",
    "            dp[i][j] = True\n",
    "        else:\n",
    "            if j > now_w:\n",
    "                dp[i][j] = dp[i][j] or dp[i-1][j-now_w]\n",
    "            else: # -를 고려\n",
    "                dp[i][j] = dp[i][j] or dp[i-1][now_w-j]\n",
    "            if j+now_w < maxv+1:\n",
    "                dp[i][j] = dp[i][j] or dp[i-1][j+now_w]\n",
    "            dp[i][j] = dp[i][j] or dp[i-1][j]\n",
    "\n",
    "print(' '.join(['Y' if (False if i > maxv else dp[n][i]) else 'N' for i in ml]))"
   ],
   "outputs": [],
   "metadata": {}
  },
  {
   "cell_type": "code",
   "execution_count": null,
   "source": [
    "# https://home-body.tistory.com/127\n",
    "\n",
    "n = int(input())\n",
    "nl = list(map(int,input().split()))\n",
    "m = int(input())\n",
    "ml = list(map(int,input().split()))\n",
    "\n",
    "maxv = sum(nl)\n",
    "\n",
    "dp = [False]*(maxv+1)\n",
    "dp[0] = True\n",
    "\n",
    "# 더하기\n",
    "for i in nl:\n",
    "    for j, now in enumerate(dp[:]):\n",
    "        if now:\n",
    "            dp[j + i] = True\n",
    "# 빼기\n",
    "for i in nl:\n",
    "    for j, now in enumerate(dp[:]):\n",
    "        if now and j-i >= 0:\n",
    "            dp[j - i] = True\n",
    "\n",
    "print(' '.join(['Y' if (False if i > maxv else dp[i]) else 'N' for i in ml]))"
   ],
   "outputs": [],
   "metadata": {}
  }
 ],
 "metadata": {
  "orig_nbformat": 4,
  "language_info": {
   "name": "python",
   "version": "3.8.5",
   "mimetype": "text/x-python",
   "codemirror_mode": {
    "name": "ipython",
    "version": 3
   },
   "pygments_lexer": "ipython3",
   "nbconvert_exporter": "python",
   "file_extension": ".py"
  },
  "kernelspec": {
   "name": "python3",
   "display_name": "Python 3.8.5 64-bit ('base': conda)"
  },
  "interpreter": {
   "hash": "f38a3fffd79a646bc0b2b6d5516527aca7770a22ea93a4e3b60b13168a4d9b93"
  }
 },
 "nbformat": 4,
 "nbformat_minor": 2
}