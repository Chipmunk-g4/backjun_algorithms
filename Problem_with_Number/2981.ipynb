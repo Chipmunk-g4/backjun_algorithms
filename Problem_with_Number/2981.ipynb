{
 "metadata": {
  "language_info": {
   "codemirror_mode": {
    "name": "ipython",
    "version": 3
   },
   "file_extension": ".py",
   "mimetype": "text/x-python",
   "name": "python",
   "nbconvert_exporter": "python",
   "pygments_lexer": "ipython3",
   "version": 3
  },
  "orig_nbformat": 2
 },
 "nbformat": 4,
 "nbformat_minor": 2,
 "cells": [
  {
   "cell_type": "code",
   "execution_count": null,
   "metadata": {},
   "outputs": [],
   "source": [
    "# https://www.acmicpc.net/problem/2981\n",
    "\"\"\"\n",
    "A = M*a + r\n",
    "B = M*b + r\n",
    "C = M*c + r\n",
    "=>  r = A - Ma = B - Mb = C - Mc\n",
    "=>  A-B = M(a-b)\n",
    "    B-C = M(b-c)\n",
    "    C-A = M(c-a)\n",
    "=>  M : A-B, B-C, C-A의 공약수\n",
    "=>  M : A-B, B-C, C-A의 최대공약수의 약수들 (문제의 조건으로 1을 제외)\n",
    "(이때 gcd(A-B, B-C, C-A) = gcd(gcd(A-B, B-C), C-A))\n",
    "\"\"\"\n",
    "\n",
    "import math\n",
    "import sys\n",
    "\n",
    "t = int(sys.stdin.readline())\n",
    "nums = sorted([int(sys.stdin.readline()) for _ in range(t)], reverse = True)\n",
    "two_minus = [0]*(t-1)\n",
    "\n",
    "for i in range(t-1):\n",
    "    two_minus[i] = nums[i]-nums[i+1]\n",
    "\n",
    "result = two_minus[0]\n",
    "for i in range(1, len(two_minus)):\n",
    "    if result == two_minus:\n",
    "        continue\n",
    "    else:\n",
    "        result = math.gcd(result, two_minus[i])\n",
    "\n",
    "result_print = []\n",
    "for i in range(2, int(result**0.5) + 1):\n",
    "    if result%i == 0:\n",
    "        result_print.append(i)\n",
    "        result_print.append(result//i)\n",
    "result_print.append(result)\n",
    "result_print = sorted(set(result_print))\n",
    "\n",
    "for i in result_print:\n",
    "    print(i,end=' ')"
   ]
  }
 ]
}