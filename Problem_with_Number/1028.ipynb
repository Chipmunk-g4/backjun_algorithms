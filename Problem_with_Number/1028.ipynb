{
 "metadata": {
  "language_info": {
   "codemirror_mode": {
    "name": "ipython",
    "version": 3
   },
   "file_extension": ".py",
   "mimetype": "text/x-python",
   "name": "python",
   "nbconvert_exporter": "python",
   "pygments_lexer": "ipython3",
   "version": "3.8.5-final"
  },
  "orig_nbformat": 2,
  "kernelspec": {
   "name": "python3",
   "display_name": "Python 3.8.5 64-bit ('base': conda)",
   "metadata": {
    "interpreter": {
     "hash": "f38a3fffd79a646bc0b2b6d5516527aca7770a22ea93a4e3b60b13168a4d9b93"
    }
   }
  }
 },
 "nbformat": 4,
 "nbformat_minor": 2,
 "cells": [
  {
   "cell_type": "code",
   "execution_count": 5,
   "metadata": {},
   "outputs": [
    {
     "output_type": "stream",
     "name": "stdout",
     "text": [
      "[[0, 1, 1, 0, 0], [0, 1, 0, 1, 1], [1, 1, 1, 1, 1], [0, 1, 1, 1, 1], [1, 1, 1, 1, 1]]\n"
     ]
    }
   ],
   "source": [
    "# https://www.acmicpc.net/problem/1028\n",
    "\n",
    "r, c = map(int,input().split())\n",
    "mine = []\n",
    "\n",
    "for _ in range(r):\n",
    "    mine.append([int(i) for i in str(input())])\n",
    "\n",
    "sw = mine.copy()\n",
    "se = mine.copy()\n",
    "nw = mine.copy()\n",
    "ne = mine.copy()\n",
    "\n",
    "for i in range(1,r):\n",
    "    for j in range(c):\n",
    "        if mine[i,j] == 1:\n",
    "            if j != 0:\n",
    "                nw[i,j] = nw[i-1,j-1] + 1\n",
    "            if j != c-1:\n",
    "                ne[i,j] = ne[i-1,j+1] + 1\n",
    "        else:\n",
    "            nw[i,j] = ne[i,j] = 0\n",
    "\n",
    "for i in range(1,r):\n",
    "    for j in range(c):\n",
    "        if mine[r-1-i,j] == 1:\n",
    "            if j != 0:\n",
    "                sw[r-1-i,j] = sw[r-i,j-1] + 1\n",
    "            if j != c-1:\n",
    "                se[r-1-i,j] = se[r-i,j+1] + 1\n",
    "        else:\n",
    "            sw[r-1-i,j] = se[r-1-i,j] = 0\n",
    "\n",
    "result = 0\n",
    "for i in range(r):\n",
    "    for j in range(c):\n",
    "        if mine[i,j] == 1:\n",
    "            south = min([sw[i][j], se[i][j]])\n",
    "            north = min([nw[i][j], ne[i][j]])\n",
    "\n",
    "            for k in range(result,south):\n",
    "                if se[i-k][j-k] "
   ]
  },
  {
   "source": [
    "**참고자료**\n",
    "- https://blog.encrypted.gg/267\n",
    "- https://stonejjun.tistory.com/132"
   ],
   "cell_type": "markdown",
   "metadata": {}
  }
 ]
}