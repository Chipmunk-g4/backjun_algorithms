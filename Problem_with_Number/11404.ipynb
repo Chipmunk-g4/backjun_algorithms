{
 "metadata": {
  "language_info": {
   "codemirror_mode": {
    "name": "ipython",
    "version": 3
   },
   "file_extension": ".py",
   "mimetype": "text/x-python",
   "name": "python",
   "nbconvert_exporter": "python",
   "pygments_lexer": "ipython3",
   "version": 3
  },
  "orig_nbformat": 2
 },
 "nbformat": 4,
 "nbformat_minor": 2,
 "cells": [
  {
   "cell_type": "code",
   "execution_count": null,
   "metadata": {},
   "outputs": [],
   "source": [
    "# https://www.acmicpc.net/problem/11401\n",
    "\n",
    "\"\"\"\n",
    "nCk = n-1Ck-1 + n-1Ck\n",
    "nCk = n! / (k! * (n-k)!)\n",
    "\n",
    "n-1Ck-1 = (n-1)! / ((k-1)! * (n-k)!)\n",
    "n-1Ck   = (n-1)! / (k! * (n-k-1)!)\n",
    "\n",
    "=> n-1Ck = n-1Ck-1 * (n-k)/k\n",
    "=> nCk = n-1Ck-1 + (n-1Ck-1 * (n-k) / k)\n",
    "\n",
    "이때 매 단계마다 k를 나눠야하기 때문에 나머지 연산에 유의해야한다.\n",
    "나머지 연산하는 값을 p라고 하고 n-1Ck-1를 a라 할 때 a%p=r, a/p=d라 하면,\n",
    "a=pd+r임은 자명하다.\n",
    "이때 우리가 원하는 값은 nCk modp => a + a * (n-k) / k modp => (a modp + (a*(n-k)) / k modp) modp\n",
    "=> (a modp + ((a*(n-k)) modp * k^-1 modp) modp) modp\n",
    "=> (a modp + ((a modp * (n-k) modp) modp * k^-1 modp) modp) modp 이다.\n",
    "이때 a modp = r 이므로\n",
    "=> (r + ((r * (n-k) modp) modp * k^-1 modp) modp) modp \n",
    "위의 값을 구하면 된다.\n",
    "\n",
    "여기서 k^-1 modp는 모듈러 곱셈 역원으로 k*x modp = 1 인 x를 구하면 된다.\n",
    "(현재 문제에서는 p가 소수이므로 모든 경우에 곱셈 역원이 존재한다.)\n",
    "그리고 해당 역원의 계산은 아래의 사이트처럼 하면 된다.\n",
    "https://stackoverflow.com/questions/4798654/modular-multiplicative-inverse-function-in-python\n",
    "\"\"\"\n",
    "import time\n",
    "\n",
    "def comb(n,k):\n",
    "    if k == 0 or n == k:\n",
    "        return 1\n",
    "\n",
    "    k = k if k<=(n//2) else n-k\n",
    "    p = 1000000007\n",
    "\n",
    "    i = 1\n",
    "    result = 1\n",
    "    nk = n-k\n",
    "    while i!=k+1:\n",
    "        nown = n-k+i\n",
    "        nowk = i\n",
    "        result = (result + (((result * (nown - nowk) % p) % p) * pow(nowk,-1,p)) % p) % p\n",
    "        i+=1\n",
    "    return result \n",
    "\n",
    "n,k = map(int,input().split())\n",
    "print(comb(n,k))"
   ]
  }
 ]
}