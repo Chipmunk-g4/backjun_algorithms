{
 "metadata": {
  "language_info": {
   "codemirror_mode": {
    "name": "ipython",
    "version": 3
   },
   "file_extension": ".py",
   "mimetype": "text/x-python",
   "name": "python",
   "nbconvert_exporter": "python",
   "pygments_lexer": "ipython3",
   "version": "3.8.5-final"
  },
  "orig_nbformat": 2,
  "kernelspec": {
   "name": "python3",
   "display_name": "Python 3.8.5 64-bit ('base': conda)",
   "metadata": {
    "interpreter": {
     "hash": "f38a3fffd79a646bc0b2b6d5516527aca7770a22ea93a4e3b60b13168a4d9b93"
    }
   }
  }
 },
 "nbformat": 4,
 "nbformat_minor": 2,
 "cells": [
  {
   "cell_type": "code",
   "execution_count": null,
   "metadata": {},
   "outputs": [],
   "source": [
    "# https://www.acmicpc.net/problem/10171\n",
    "\n",
    "print(\"\\    /\\\\\")\n",
    "print(\" )  ( ')\")\n",
    "print(\"(  /  )\")\n",
    "print(\" \\(__)|\")"
   ]
  },
  {
   "cell_type": "code",
   "execution_count": null,
   "metadata": {},
   "outputs": [],
   "source": [
    "# https://www.acmicpc.net/problem/10172\n",
    "\n",
    "print(\"|\\_/|\")\n",
    "print(\"|q p|   /}\")\n",
    "print(\"( 0 )\\\"\\\"\\\"\\\\\")\n",
    "print(\"|\\\"^\\\"`    |\")\n",
    "print(\"||_/=\\\\\\\\__|\")"
   ]
  },
  {
   "cell_type": "code",
   "execution_count": null,
   "metadata": {},
   "outputs": [],
   "source": [
    "# https://www.acmicpc.net/problem/14681\n",
    "\n",
    "x = int(input())\n",
    "y = int(input())\n",
    "\n",
    "if x > 0 and y > 0:\n",
    "    print(1)\n",
    "elif x < 0 and y > 0:\n",
    "    print(2)\n",
    "elif x < 0 and y < 0:\n",
    "    print(3)\n",
    "elif x > 0 and y < 0:\n",
    "    print(4)"
   ]
  },
  {
   "cell_type": "code",
   "execution_count": null,
   "metadata": {},
   "outputs": [],
   "source": [
    "# https://www.acmicpc.net/problem/10950\n",
    "\n",
    "t = int(input())\n",
    "\n",
    "for i in range(t):\n",
    "    x, y = map(int, input().split())\n",
    "    print(x+y)"
   ]
  },
  {
   "cell_type": "code",
   "execution_count": null,
   "metadata": {},
   "outputs": [],
   "source": [
    "# https://www.acmicpc.net/problem/15552\n",
    "import sys\n",
    "\n",
    "t = int(sys.stdin.readline())\n",
    "\n",
    "for i in range(t):\n",
    "    x, y = map(int, sys.stdin.readline().split())\n",
    "    print(x+y)"
   ]
  },
  {
   "cell_type": "code",
   "execution_count": null,
   "metadata": {},
   "outputs": [],
   "source": [
    "# https://www.acmicpc.net/problem/2741\n",
    "\n",
    "output = \"\"\n",
    "t = int(input())\n",
    "\n",
    "for i in range(t):\n",
    "    output += f\"{i+1}\\n\"\n",
    "print(output)"
   ]
  },
  {
   "cell_type": "code",
   "execution_count": null,
   "metadata": {},
   "outputs": [],
   "source": [
    "# https://www.acmicpc.net/problem/2742\n",
    "\n",
    "output = \"\"\n",
    "t = int(input())\n",
    "\n",
    "for i in range(t):\n",
    "    output += f\"{t-i}\\n\"\n",
    "print(output)"
   ]
  },
  {
   "cell_type": "code",
   "execution_count": null,
   "metadata": {},
   "outputs": [],
   "source": [
    "# https://www.acmicpc.net/problem/11021\n",
    "\n",
    "t = int(input())\n",
    "\n",
    "for i in range(t):\n",
    "    x, y = map(int, input().split())\n",
    "    print(f\"Case #{i+1}: {x+y}\")"
   ]
  },
  {
   "cell_type": "code",
   "execution_count": null,
   "metadata": {},
   "outputs": [],
   "source": [
    "# https://www.acmicpc.net/problem/11022\n",
    "\n",
    "t = int(input())\n",
    "\n",
    "for i in range(t):\n",
    "    x, y = map(int, input().split())\n",
    "    print(f\"Case #{i+1}: {x} + {y} = {x+y}\")"
   ]
  },
  {
   "cell_type": "code",
   "execution_count": null,
   "metadata": {},
   "outputs": [],
   "source": [
    "# https://www.acmicpc.net/problem/2438\n",
    "\n",
    "tmp = \"\"\n",
    "result = \"\"\n",
    "t = int(input())\n",
    "\n",
    "for _ in range(t):\n",
    "    tmp += \"*\"\n",
    "    result += f\"{tmp}\\n\"\n",
    "print(result)"
   ]
  },
  {
   "cell_type": "code",
   "execution_count": null,
   "metadata": {},
   "outputs": [],
   "source": [
    "# https://www.acmicpc.net/problem/2439\n",
    "\n",
    "t = int(input())\n",
    "\n",
    "tmp1 = \"\"\n",
    "tmp2 = \"\".join([\" \" for _ in range(t)])\n",
    "result = \"\"\n",
    "\n",
    "for _ in range(t):\n",
    "    tmp1 += \"*\"\n",
    "    tmp2 = tmp2[:len(tmp2)-1]\n",
    "    result += f\"{tmp2}{tmp1}\\n\"\n",
    "print(result)"
   ]
  },
  {
   "cell_type": "code",
   "execution_count": null,
   "metadata": {},
   "outputs": [],
   "source": [
    "# https://www.acmicpc.net/problem/10871\n",
    "\n",
    "len, key = map(int, input().split())\n",
    "l = list(map(int,input().split()))\n",
    "\n",
    "result = [str(num) for num in l if num < key]\n",
    "print(\" \".join(result))"
   ]
  },
  {
   "cell_type": "code",
   "execution_count": null,
   "metadata": {},
   "outputs": [],
   "source": [
    "# https://www.acmicpc.net/problem/10952\n",
    "\n",
    "while True:\n",
    "    x, y = map(int,input().split())\n",
    "    if x == 0 and y == 0:\n",
    "        break\n",
    "    print(x+y)"
   ]
  },
  {
   "cell_type": "code",
   "execution_count": null,
   "metadata": {},
   "outputs": [],
   "source": [
    "# https://www.acmicpc.net/problem/10951\n",
    "\n",
    "while True:\n",
    "    try:\n",
    "        x, y = map(int,input().split())\n",
    "        print(x+y)\n",
    "    except:\n",
    "        break"
   ]
  },
  {
   "cell_type": "code",
   "execution_count": null,
   "metadata": {
    "tags": []
   },
   "outputs": [],
   "source": [
    "# https://www.acmicpc.net/problem/1110\n",
    "\n",
    "key = list(map(int,input().split()))[0]\n",
    "now = key\n",
    "result = 0\n",
    "\n",
    "while True:\n",
    "    ten_num = now % 10\n",
    "    one_num = (now % 10 +int(now / 10)) % 10\n",
    "    now = ten_num*10 + one_num\n",
    "    result += 1\n",
    "    \n",
    "    if now == key:\n",
    "        break\n",
    "\n",
    "print(result)"
   ]
  },
  {
   "cell_type": "code",
   "execution_count": null,
   "metadata": {},
   "outputs": [],
   "source": [
    "# https://www.acmicpc.net/problem/10818\n",
    "# version 1\n",
    "\n",
    "t = int(input())\n",
    "l = list(map(int,input().split()))\n",
    "min, max = l[0], l[0]\n",
    "\n",
    "for i in range(t):\n",
    "    if l[i] < min:\n",
    "        min = l[i]\n",
    "    if l[i] > max:\n",
    "        max = l[i]\n",
    "\n",
    "print(f\"{min} {max}\")"
   ]
  },
  {
   "cell_type": "code",
   "execution_count": null,
   "metadata": {},
   "outputs": [],
   "source": [
    "# https://www.acmicpc.net/problem/10818\n",
    "# version 2\n",
    "\n",
    "t = int(input())\n",
    "l = list(map(int,input().split()))\n",
    "print(f\"{min(l)} {max(l)}\")"
   ]
  },
  {
   "cell_type": "code",
   "execution_count": null,
   "metadata": {},
   "outputs": [],
   "source": [
    "# https://www.acmicpc.net/problem/2562\n",
    "\n",
    "result = 0\n",
    "max = 0\n",
    "for i in range(9):\n",
    "    now = int(input())\n",
    "    if now > max:\n",
    "        max = now\n",
    "        result = i\n",
    "print(max)\n",
    "print(result+1)"
   ]
  },
  {
   "cell_type": "code",
   "execution_count": null,
   "metadata": {},
   "outputs": [],
   "source": [
    "# https://www.acmicpc.net/problem/2577\n",
    "\n",
    "result = [0 for i in range(10)]\n",
    "\n",
    "a=int(input())\n",
    "b=int(input())\n",
    "c=int(input())\n",
    "\n",
    "num = list(str(a*b*c))\n",
    "for i in num:\n",
    "    result[int(i)]+=1\n",
    "for i in result:\n",
    "    print(i)"
   ]
  },
  {
   "cell_type": "code",
   "execution_count": null,
   "metadata": {},
   "outputs": [],
   "source": [
    "# https://www.acmicpc.net/problem/3052\n",
    "\n",
    "all_num = [0 for i in range(43)]\n",
    "\n",
    "for _ in range(10):\n",
    "    all_num[int(input()) % 42] += 1\n",
    "\n",
    "result = [1 for i in all_num if i > 0]\n",
    "print(len(result))"
   ]
  },
  {
   "cell_type": "code",
   "execution_count": null,
   "metadata": {},
   "outputs": [],
   "source": [
    "# https://www.acmicpc.net/problem/1546\n",
    "\n",
    "t = int(input())\n",
    "input_num = list(map(int,input().split()))\n",
    "\n",
    "max_num = max(input_num)\n",
    "result = [i/max_num*100 for i in input_num]\n",
    "print(sum(result)/len(result))"
   ]
  },
  {
   "cell_type": "code",
   "execution_count": null,
   "metadata": {},
   "outputs": [],
   "source": [
    "# https://www.acmicpc.net/problem/8958\n",
    "\n",
    "t = int(input())\n",
    "\n",
    "for _ in range(t):\n",
    "    l = list(str(input()))\n",
    "    tmp = 0\n",
    "    score = 0\n",
    "\n",
    "    for now in l:\n",
    "        if now == \"O\":\n",
    "            tmp+=1\n",
    "            score+=tmp\n",
    "        else:\n",
    "            tmp=0\n",
    "    print(score)"
   ]
  },
  {
   "cell_type": "code",
   "execution_count": null,
   "metadata": {},
   "outputs": [],
   "source": [
    "# https://www.acmicpc.net/problem/4344\n",
    "\n",
    "t = int(input())\n",
    "\n",
    "for _ in range(t):\n",
    "    l = list(map(int,input().split()))\n",
    "    mean = sum(l[1:])/l[0]\n",
    "    over_mean = [i for i in l[1:] if i>mean]\n",
    "    rate = len(over_mean)/l[0]*100\n",
    "    print(f\"{rate:.3f}%\")"
   ]
  },
  {
   "source": [
    "# 시작 마크"
   ],
   "cell_type": "markdown",
   "metadata": {}
  },
  {
   "cell_type": "code",
   "execution_count": null,
   "metadata": {},
   "outputs": [],
   "source": [
    "# https://www.acmicpc.net/problem/15596\n",
    "\n",
    "def solve(a):\n",
    "    return sum(a)"
   ]
  },
  {
   "cell_type": "code",
   "execution_count": null,
   "metadata": {},
   "outputs": [],
   "source": [
    "# https://www.acmicpc.net/problem/4673\n",
    "\n",
    "def d(n):\n",
    "    return n + sum([int(i) for i in list(str(n))])\n",
    "\n",
    "result = [0 for i in range(10000)]\n",
    "\n",
    "for i in range(10000):\n",
    "    now = d(i+1)-1\n",
    "    if d(i+1)-1 < 10000:\n",
    "        result[d(i+1)-1] = 1\n",
    "for i in range(10000):\n",
    "    if result[i] == 0:\n",
    "        print(i+1)\n"
   ]
  }
 ]
}