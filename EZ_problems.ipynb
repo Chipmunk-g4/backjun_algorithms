{
 "metadata": {
  "language_info": {
   "codemirror_mode": {
    "name": "ipython",
    "version": 3
   },
   "file_extension": ".py",
   "mimetype": "text/x-python",
   "name": "python",
   "nbconvert_exporter": "python",
   "pygments_lexer": "ipython3",
   "version": "3.8.5-final"
  },
  "orig_nbformat": 2,
  "kernelspec": {
   "name": "python3",
   "display_name": "Python 3.8.5 64-bit ('base': conda)",
   "metadata": {
    "interpreter": {
     "hash": "f38a3fffd79a646bc0b2b6d5516527aca7770a22ea93a4e3b60b13168a4d9b93"
    }
   }
  }
 },
 "nbformat": 4,
 "nbformat_minor": 2,
 "cells": [
  {
   "cell_type": "code",
   "execution_count": null,
   "metadata": {},
   "outputs": [],
   "source": [
    "# https://www.acmicpc.net/problem/10171\n",
    "\n",
    "print(\"\\    /\\\\\")\n",
    "print(\" )  ( ')\")\n",
    "print(\"(  /  )\")\n",
    "print(\" \\(__)|\")"
   ]
  },
  {
   "cell_type": "code",
   "execution_count": null,
   "metadata": {},
   "outputs": [],
   "source": [
    "# https://www.acmicpc.net/problem/10172\n",
    "\n",
    "print(\"|\\_/|\")\n",
    "print(\"|q p|   /}\")\n",
    "print(\"( 0 )\\\"\\\"\\\"\\\\\")\n",
    "print(\"|\\\"^\\\"`    |\")\n",
    "print(\"||_/=\\\\\\\\__|\")"
   ]
  },
  {
   "cell_type": "code",
   "execution_count": null,
   "metadata": {},
   "outputs": [],
   "source": [
    "# https://www.acmicpc.net/problem/14681\n",
    "\n",
    "x = int(input())\n",
    "y = int(input())\n",
    "\n",
    "if x > 0 and y > 0:\n",
    "    print(1)\n",
    "elif x < 0 and y > 0:\n",
    "    print(2)\n",
    "elif x < 0 and y < 0:\n",
    "    print(3)\n",
    "elif x > 0 and y < 0:\n",
    "    print(4)"
   ]
  },
  {
   "cell_type": "code",
   "execution_count": null,
   "metadata": {},
   "outputs": [],
   "source": [
    "# https://www.acmicpc.net/problem/10950\n",
    "\n",
    "t = int(input())\n",
    "\n",
    "for i in range(t):\n",
    "    x, y = map(int, input().split())\n",
    "    print(x+y)"
   ]
  },
  {
   "cell_type": "code",
   "execution_count": null,
   "metadata": {},
   "outputs": [],
   "source": [
    "# https://www.acmicpc.net/problem/15552\n",
    "import sys\n",
    "\n",
    "t = int(sys.stdin.readline())\n",
    "\n",
    "for i in range(t):\n",
    "    x, y = map(int, sys.stdin.readline().split())\n",
    "    print(x+y)"
   ]
  },
  {
   "cell_type": "code",
   "execution_count": null,
   "metadata": {},
   "outputs": [],
   "source": [
    "# https://www.acmicpc.net/problem/2741\n",
    "\n",
    "output = \"\"\n",
    "t = int(input())\n",
    "\n",
    "for i in range(t):\n",
    "    output += f\"{i+1}\\n\"\n",
    "print(output)"
   ]
  },
  {
   "cell_type": "code",
   "execution_count": null,
   "metadata": {},
   "outputs": [],
   "source": [
    "# https://www.acmicpc.net/problem/2742\n",
    "\n",
    "output = \"\"\n",
    "t = int(input())\n",
    "\n",
    "for i in range(t):\n",
    "    output += f\"{t-i}\\n\"\n",
    "print(output)"
   ]
  },
  {
   "cell_type": "code",
   "execution_count": null,
   "metadata": {},
   "outputs": [],
   "source": [
    "# https://www.acmicpc.net/problem/11021\n",
    "\n",
    "t = int(input())\n",
    "\n",
    "for i in range(t):\n",
    "    x, y = map(int, input().split())\n",
    "    print(f\"Case #{i+1}: {x+y}\")"
   ]
  },
  {
   "cell_type": "code",
   "execution_count": null,
   "metadata": {},
   "outputs": [],
   "source": [
    "# https://www.acmicpc.net/problem/11022\n",
    "\n",
    "t = int(input())\n",
    "\n",
    "for i in range(t):\n",
    "    x, y = map(int, input().split())\n",
    "    print(f\"Case #{i+1}: {x} + {y} = {x+y}\")"
   ]
  },
  {
   "cell_type": "code",
   "execution_count": null,
   "metadata": {},
   "outputs": [],
   "source": [
    "# https://www.acmicpc.net/problem/2438\n",
    "\n",
    "tmp = \"\"\n",
    "result = \"\"\n",
    "t = int(input())\n",
    "\n",
    "for _ in range(t):\n",
    "    tmp += \"*\"\n",
    "    result += f\"{tmp}\\n\"\n",
    "print(result)"
   ]
  },
  {
   "cell_type": "code",
   "execution_count": null,
   "metadata": {},
   "outputs": [],
   "source": [
    "# https://www.acmicpc.net/problem/2439\n",
    "\n",
    "t = int(input())\n",
    "\n",
    "tmp1 = \"\"\n",
    "tmp2 = \"\".join([\" \" for _ in range(t)])\n",
    "result = \"\"\n",
    "\n",
    "for _ in range(t):\n",
    "    tmp1 += \"*\"\n",
    "    tmp2 = tmp2[:len(tmp2)-1]\n",
    "    result += f\"{tmp2}{tmp1}\\n\"\n",
    "print(result)"
   ]
  },
  {
   "cell_type": "code",
   "execution_count": 6,
   "metadata": {},
   "outputs": [
    {
     "output_type": "stream",
     "name": "stdout",
     "text": [
      "1 4 2 3\n"
     ]
    }
   ],
   "source": [
    "# https://www.acmicpc.net/problem/10871\n",
    "\n",
    "len, key = map(int, input().split())\n",
    "l = list(map(int,input().split()))\n",
    "\n",
    "result = [str(num) for num in l if num < key]\n",
    "print(\" \".join(result))"
   ]
  },
  {
   "cell_type": "code",
   "execution_count": 8,
   "metadata": {},
   "outputs": [
    {
     "output_type": "stream",
     "name": "stdout",
     "text": [
      "2\n",
      "4\n",
      "7\n"
     ]
    }
   ],
   "source": [
    "# https://www.acmicpc.net/problem/10952\n",
    "\n",
    "while True:\n",
    "    x, y = map(int,input().split())\n",
    "    if x == 0 and y == 0:\n",
    "        break\n",
    "    print(x+y)"
   ]
  },
  {
   "cell_type": "code",
   "execution_count": null,
   "metadata": {},
   "outputs": [],
   "source": [
    "# https://www.acmicpc.net/problem/10951\n",
    "\n",
    "while True:\n",
    "    try:\n",
    "        x, y = map(int,input().split())\n",
    "        print(x+y)\n",
    "    except:\n",
    "        break"
   ]
  },
  {
   "cell_type": "code",
   "execution_count": 7,
   "metadata": {
    "tags": []
   },
   "outputs": [
    {
     "output_type": "stream",
     "name": "stdout",
     "text": [
      "1\n"
     ]
    }
   ],
   "source": [
    "# https://www.acmicpc.net/problem/1110\n",
    "\n",
    "key = list(map(int,input().split()))[0]\n",
    "now = key\n",
    "result = 0\n",
    "\n",
    "while True:\n",
    "    ten_num = now % 10\n",
    "    one_num = (now % 10 +int(now / 10)) % 10\n",
    "    now = ten_num*10 + one_num\n",
    "    result += 1\n",
    "    \n",
    "    if now == key:\n",
    "        break\n",
    "\n",
    "print(result)"
   ]
  }
 ]
}