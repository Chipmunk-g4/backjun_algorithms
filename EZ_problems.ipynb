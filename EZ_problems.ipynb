{
 "metadata": {
  "language_info": {
   "codemirror_mode": {
    "name": "ipython",
    "version": 3
   },
   "file_extension": ".py",
   "mimetype": "text/x-python",
   "name": "python",
   "nbconvert_exporter": "python",
   "pygments_lexer": "ipython3",
   "version": "3.8.5"
  },
  "orig_nbformat": 2,
  "kernelspec": {
   "name": "python385jvsc74a57bd0f38a3fffd79a646bc0b2b6d5516527aca7770a22ea93a4e3b60b13168a4d9b93",
   "display_name": "Python 3.8.5 64-bit ('base': conda)"
  }
 },
 "nbformat": 4,
 "nbformat_minor": 2,
 "cells": [
  {
   "cell_type": "code",
   "execution_count": null,
   "metadata": {},
   "outputs": [],
   "source": [
    "# https://www.acmicpc.net/problem/10171\n",
    "\n",
    "print(\"\\    /\\\\\")\n",
    "print(\" )  ( ')\")\n",
    "print(\"(  /  )\")\n",
    "print(\" \\(__)|\")"
   ]
  },
  {
   "cell_type": "code",
   "execution_count": null,
   "metadata": {},
   "outputs": [],
   "source": [
    "# https://www.acmicpc.net/problem/10172\n",
    "\n",
    "print(\"|\\_/|\")\n",
    "print(\"|q p|   /}\")\n",
    "print(\"( 0 )\\\"\\\"\\\"\\\\\")\n",
    "print(\"|\\\"^\\\"`    |\")\n",
    "print(\"||_/=\\\\\\\\__|\")"
   ]
  },
  {
   "cell_type": "code",
   "execution_count": null,
   "metadata": {},
   "outputs": [],
   "source": [
    "# https://www.acmicpc.net/problem/14681\n",
    "\n",
    "x = int(input())\n",
    "y = int(input())\n",
    "\n",
    "if x > 0 and y > 0:\n",
    "    print(1)\n",
    "elif x < 0 and y > 0:\n",
    "    print(2)\n",
    "elif x < 0 and y < 0:\n",
    "    print(3)\n",
    "elif x > 0 and y < 0:\n",
    "    print(4)"
   ]
  },
  {
   "cell_type": "code",
   "execution_count": null,
   "metadata": {},
   "outputs": [],
   "source": [
    "# https://www.acmicpc.net/problem/10950\n",
    "\n",
    "t = int(input())\n",
    "\n",
    "for i in range(t):\n",
    "    x, y = map(int, input().split())\n",
    "    print(x+y)"
   ]
  },
  {
   "cell_type": "code",
   "execution_count": null,
   "metadata": {},
   "outputs": [],
   "source": [
    "# https://www.acmicpc.net/problem/15552\n",
    "import sys\n",
    "\n",
    "t = int(sys.stdin.readline())\n",
    "\n",
    "for i in range(t):\n",
    "    x, y = map(int, sys.stdin.readline().split())\n",
    "    print(x+y)"
   ]
  },
  {
   "cell_type": "code",
   "execution_count": null,
   "metadata": {},
   "outputs": [],
   "source": [
    "# https://www.acmicpc.net/problem/2741\n",
    "\n",
    "output = \"\"\n",
    "t = int(input())\n",
    "\n",
    "for i in range(t):\n",
    "    output += f\"{i+1}\\n\"\n",
    "print(output)"
   ]
  },
  {
   "cell_type": "code",
   "execution_count": null,
   "metadata": {},
   "outputs": [],
   "source": [
    "# https://www.acmicpc.net/problem/2742\n",
    "\n",
    "output = \"\"\n",
    "t = int(input())\n",
    "\n",
    "for i in range(t):\n",
    "    output += f\"{t-i}\\n\"\n",
    "print(output)"
   ]
  },
  {
   "cell_type": "code",
   "execution_count": null,
   "metadata": {},
   "outputs": [],
   "source": [
    "# https://www.acmicpc.net/problem/11021\n",
    "\n",
    "t = int(input())\n",
    "\n",
    "for i in range(t):\n",
    "    x, y = map(int, input().split())\n",
    "    print(f\"Case #{i+1}: {x+y}\")"
   ]
  },
  {
   "cell_type": "code",
   "execution_count": null,
   "metadata": {},
   "outputs": [],
   "source": [
    "# https://www.acmicpc.net/problem/11022\n",
    "\n",
    "t = int(input())\n",
    "\n",
    "for i in range(t):\n",
    "    x, y = map(int, input().split())\n",
    "    print(f\"Case #{i+1}: {x} + {y} = {x+y}\")"
   ]
  },
  {
   "cell_type": "code",
   "execution_count": null,
   "metadata": {},
   "outputs": [],
   "source": [
    "# https://www.acmicpc.net/problem/2438\n",
    "\n",
    "tmp = \"\"\n",
    "result = \"\"\n",
    "t = int(input())\n",
    "\n",
    "for _ in range(t):\n",
    "    tmp += \"*\"\n",
    "    result += f\"{tmp}\\n\"\n",
    "print(result)"
   ]
  },
  {
   "cell_type": "code",
   "execution_count": null,
   "metadata": {},
   "outputs": [],
   "source": [
    "# https://www.acmicpc.net/problem/2439\n",
    "\n",
    "t = int(input())\n",
    "\n",
    "tmp1 = \"\"\n",
    "tmp2 = \"\".join([\" \" for _ in range(t)])\n",
    "result = \"\"\n",
    "\n",
    "for _ in range(t):\n",
    "    tmp1 += \"*\"\n",
    "    tmp2 = tmp2[:len(tmp2)-1]\n",
    "    result += f\"{tmp2}{tmp1}\\n\"\n",
    "print(result)"
   ]
  },
  {
   "cell_type": "code",
   "execution_count": null,
   "metadata": {},
   "outputs": [],
   "source": [
    "# https://www.acmicpc.net/problem/10871\n",
    "\n",
    "len, key = map(int, input().split())\n",
    "l = list(map(int,input().split()))\n",
    "\n",
    "result = [str(num) for num in l if num < key]\n",
    "print(\" \".join(result))"
   ]
  },
  {
   "cell_type": "code",
   "execution_count": null,
   "metadata": {},
   "outputs": [],
   "source": [
    "# https://www.acmicpc.net/problem/10952\n",
    "\n",
    "while True:\n",
    "    x, y = map(int,input().split())\n",
    "    if x == 0 and y == 0:\n",
    "        break\n",
    "    print(x+y)"
   ]
  },
  {
   "cell_type": "code",
   "execution_count": null,
   "metadata": {},
   "outputs": [],
   "source": [
    "# https://www.acmicpc.net/problem/10951\n",
    "\n",
    "while True:\n",
    "    try:\n",
    "        x, y = map(int,input().split())\n",
    "        print(x+y)\n",
    "    except:\n",
    "        break"
   ]
  },
  {
   "cell_type": "code",
   "execution_count": null,
   "metadata": {
    "tags": []
   },
   "outputs": [],
   "source": [
    "# https://www.acmicpc.net/problem/1110\n",
    "\n",
    "key = list(map(int,input().split()))[0]\n",
    "now = key\n",
    "result = 0\n",
    "\n",
    "while True:\n",
    "    ten_num = now % 10\n",
    "    one_num = (now % 10 +int(now / 10)) % 10\n",
    "    now = ten_num*10 + one_num\n",
    "    result += 1\n",
    "    \n",
    "    if now == key:\n",
    "        break\n",
    "\n",
    "print(result)"
   ]
  },
  {
   "cell_type": "code",
   "execution_count": null,
   "metadata": {},
   "outputs": [],
   "source": [
    "# https://www.acmicpc.net/problem/10818\n",
    "# version 1\n",
    "\n",
    "t = int(input())\n",
    "l = list(map(int,input().split()))\n",
    "min, max = l[0], l[0]\n",
    "\n",
    "for i in range(t):\n",
    "    if l[i] < min:\n",
    "        min = l[i]\n",
    "    if l[i] > max:\n",
    "        max = l[i]\n",
    "\n",
    "print(f\"{min} {max}\")"
   ]
  },
  {
   "cell_type": "code",
   "execution_count": null,
   "metadata": {},
   "outputs": [],
   "source": [
    "# https://www.acmicpc.net/problem/10818\n",
    "# version 2\n",
    "\n",
    "t = int(input())\n",
    "l = list(map(int,input().split()))\n",
    "print(f\"{min(l)} {max(l)}\")"
   ]
  },
  {
   "cell_type": "code",
   "execution_count": null,
   "metadata": {},
   "outputs": [],
   "source": [
    "# https://www.acmicpc.net/problem/2562\n",
    "\n",
    "result = 0\n",
    "max = 0\n",
    "for i in range(9):\n",
    "    now = int(input())\n",
    "    if now > max:\n",
    "        max = now\n",
    "        result = i\n",
    "print(max)\n",
    "print(result+1)"
   ]
  },
  {
   "cell_type": "code",
   "execution_count": null,
   "metadata": {},
   "outputs": [],
   "source": [
    "# https://www.acmicpc.net/problem/2577\n",
    "\n",
    "result = [0 for i in range(10)]\n",
    "\n",
    "a=int(input())\n",
    "b=int(input())\n",
    "c=int(input())\n",
    "\n",
    "num = list(str(a*b*c))\n",
    "for i in num:\n",
    "    result[int(i)]+=1\n",
    "for i in result:\n",
    "    print(i)"
   ]
  },
  {
   "cell_type": "code",
   "execution_count": null,
   "metadata": {},
   "outputs": [],
   "source": [
    "# https://www.acmicpc.net/problem/3052\n",
    "\n",
    "all_num = [0 for i in range(43)]\n",
    "\n",
    "for _ in range(10):\n",
    "    all_num[int(input()) % 42] += 1\n",
    "\n",
    "result = [1 for i in all_num if i > 0]\n",
    "print(len(result))"
   ]
  },
  {
   "cell_type": "code",
   "execution_count": null,
   "metadata": {},
   "outputs": [],
   "source": [
    "# https://www.acmicpc.net/problem/1546\n",
    "\n",
    "t = int(input())\n",
    "input_num = list(map(int,input().split()))\n",
    "\n",
    "max_num = max(input_num)\n",
    "result = [i/max_num*100 for i in input_num]\n",
    "print(sum(result)/len(result))"
   ]
  },
  {
   "cell_type": "code",
   "execution_count": null,
   "metadata": {},
   "outputs": [],
   "source": [
    "# https://www.acmicpc.net/problem/8958\n",
    "\n",
    "t = int(input())\n",
    "\n",
    "for _ in range(t):\n",
    "    l = list(str(input()))\n",
    "    tmp = 0\n",
    "    score = 0\n",
    "\n",
    "    for now in l:\n",
    "        if now == \"O\":\n",
    "            tmp+=1\n",
    "            score+=tmp\n",
    "        else:\n",
    "            tmp=0\n",
    "    print(score)"
   ]
  },
  {
   "cell_type": "code",
   "execution_count": null,
   "metadata": {},
   "outputs": [],
   "source": [
    "# https://www.acmicpc.net/problem/4344\n",
    "\n",
    "t = int(input())\n",
    "\n",
    "for _ in range(t):\n",
    "    l = list(map(int,input().split()))\n",
    "    mean = sum(l[1:])/l[0]\n",
    "    over_mean = [i for i in l[1:] if i>mean]\n",
    "    rate = len(over_mean)/l[0]*100\n",
    "    print(f\"{rate:.3f}%\")"
   ]
  },
  {
   "cell_type": "code",
   "execution_count": null,
   "metadata": {},
   "outputs": [],
   "source": [
    "# https://www.acmicpc.net/problem/15596\n",
    "\n",
    "def solve(a):\n",
    "    return sum(a)"
   ]
  },
  {
   "cell_type": "code",
   "execution_count": null,
   "metadata": {},
   "outputs": [],
   "source": [
    "# https://www.acmicpc.net/problem/4673\n",
    "\n",
    "def d(n):\n",
    "    return n + sum([int(i) for i in list(str(n))])\n",
    "\n",
    "result = [0 for i in range(10000)]\n",
    "\n",
    "for i in range(10000):\n",
    "    now = d(i+1)-1\n",
    "    if d(i+1)-1 < 10000:\n",
    "        result[d(i+1)-1] = 1\n",
    "for i in range(10000):\n",
    "    if result[i] == 0:\n",
    "        print(i+1)\n"
   ]
  },
  {
   "cell_type": "code",
   "execution_count": null,
   "metadata": {
    "tags": []
   },
   "outputs": [],
   "source": [
    "# https://www.acmicpc.net/problem/1065\n",
    "\n",
    "def hansu(x):\n",
    "    result = True\n",
    "    split = [int(str(x)[i]) for i in range(len(str(x)))]\n",
    "    if len(split) == 1:\n",
    "        result = True\n",
    "    else:\n",
    "        flag = split[1] - split[0]\n",
    "        for i in range(1, len(split)-1):\n",
    "            now_v = split[i+1] - split[i]\n",
    "            result = False if now_v != flag else True\n",
    "    return result\n",
    "\n",
    "t = int(input())\n",
    "count = 0\n",
    "for x in range(1, t+1):\n",
    "    count += 1 if hansu(x) else 0\n",
    "\n",
    "print(count)"
   ]
  },
  {
   "cell_type": "code",
   "execution_count": null,
   "metadata": {},
   "outputs": [],
   "source": [
    "# https://www.acmicpc.net/problem/11654\n",
    "\n",
    "in_str = str(input())\n",
    "print(ord(in_str))"
   ]
  },
  {
   "cell_type": "code",
   "execution_count": null,
   "metadata": {},
   "outputs": [],
   "source": [
    "# https://www.acmicpc.net/problem/11720\n",
    "\n",
    "t = int(input())\n",
    "input_str = str(input())\n",
    "result = 0\n",
    "for x in range(t):\n",
    "    result += int(input_str[x])\n",
    "print(result)"
   ]
  },
  {
   "cell_type": "code",
   "execution_count": null,
   "metadata": {},
   "outputs": [],
   "source": [
    "# https://www.acmicpc.net/problem/10809\n",
    "\n",
    "result = [-1 for _ in range(ord('a'), ord('z')+1)]\n",
    "\n",
    "in_str = str(input())\n",
    "for widx in range(len(in_str)):\n",
    "    now_pos = ord(in_str[widx]) - ord('a')\n",
    "    result[now_pos] = widx if result[now_pos] == -1 else result[now_pos]\n",
    "\n",
    "result_str = \"\"\n",
    "for i in result:\n",
    "    result_str += str(i)+\" \"\n",
    "print(result_str[:-1])"
   ]
  },
  {
   "cell_type": "code",
   "execution_count": null,
   "metadata": {},
   "outputs": [],
   "source": [
    "# https://www.acmicpc.net/problem/2675\n",
    "\n",
    "tc = int(input())\n",
    "\n",
    "for _ in range(tc):\n",
    "    now_in = list(map(str,input().split()))\n",
    "    repeat = int(now_in[0])\n",
    "    result = [[now_in[1][chr_idx] for _ in range(repeat)] for chr_idx in range(len(now_in[1]))]\n",
    "    result = [ y for x in result for y in x]\n",
    "    print(''.join(result))\n"
   ]
  },
  {
   "cell_type": "code",
   "execution_count": null,
   "metadata": {},
   "outputs": [],
   "source": [
    "# https://www.acmicpc.net/problem/1157\n",
    "\n",
    "# 풀이 1\n",
    "\n",
    "result = [0 for _ in range(ord('a'), ord('z')+1)]\n",
    "\n",
    "in_str = str(input()).lower()\n",
    "for widx in range(len(in_str)):\n",
    "    now_pos = ord(in_str[widx]) - ord('a')\n",
    "    result[now_pos] += 1\n",
    "\n",
    "result_idx = 0\n",
    "max_val = -1\n",
    "multi = False\n",
    "for x in range(len(result)):\n",
    "    if result[x] > max_val:\n",
    "        result_idx = x\n",
    "        max_val = result[x]\n",
    "        multi = False\n",
    "    elif result[x] == max_val:\n",
    "        multi = True\n",
    "\n",
    "if multi:\n",
    "    print('?')\n",
    "else:\n",
    "    print(chr(ord('a')+result_idx).upper())"
   ]
  },
  {
   "cell_type": "code",
   "execution_count": null,
   "metadata": {},
   "outputs": [],
   "source": [
    "# 풀이 2\n",
    "\n",
    "result = [0 for _ in range(ord('a'), ord('z')+1)]\n",
    "\n",
    "in_str = str(input()).lower()\n",
    "for widx in range(len(in_str)):\n",
    "    now_pos = ord(in_str[widx]) - ord('a')\n",
    "    result[now_pos] += 1\n",
    "\n",
    "if (result.count(max(result))) > 1:\n",
    "    print('?')\n",
    "else:\n",
    "    print(chr(ord('a')+result.index(max(result))).upper())"
   ]
  },
  {
   "cell_type": "code",
   "execution_count": null,
   "metadata": {},
   "outputs": [],
   "source": [
    "# https://www.acmicpc.net/problem/1152\n",
    "\n",
    "print(len(list(map(str,input().split()))))"
   ]
  },
  {
   "cell_type": "code",
   "execution_count": null,
   "metadata": {},
   "outputs": [],
   "source": [
    "# https://www.acmicpc.net/problem/2908\n",
    "\n",
    "num_int = list(map(str,input().split()))\n",
    "a = list(num_int[0])\n",
    "b = list(num_int[1])\n",
    "a.reverse()\n",
    "b.reverse()\n",
    "a = int(''.join(a))\n",
    "b = int(''.join(b))\n",
    "print(max(a,b))"
   ]
  },
  {
   "cell_type": "code",
   "execution_count": null,
   "metadata": {},
   "outputs": [],
   "source": [
    "# https://www.acmicpc.net/problem/5622\n",
    "\n",
    "words = input().lower()\n",
    "s = ['abc','def','ghi','jkl','mno','pqrs','tuv','wxyz']\n",
    "\n",
    "time = 0\n",
    "for i in range(len(words)):\n",
    "    for j in s:\n",
    "        if(words[i] in j):\n",
    "            time += s.index(j) + 3\n",
    "print(time)"
   ]
  },
  {
   "cell_type": "code",
   "execution_count": null,
   "metadata": {},
   "outputs": [],
   "source": [
    "# https://www.acmicpc.net/problem/2941\n",
    "\n",
    "in_str = list(str(input()))\n",
    "result = 0\n",
    "\n",
    "check_token = ['=','-']\n",
    "j_token = ['j']\n",
    "\n",
    "for widx in range(len(in_str)):\n",
    "    result += 1\n",
    "    if widx > 0 and in_str[widx] in check_token:\n",
    "        result -= 1\n",
    "        if widx > 1 and in_str[widx-1] == 'z':\n",
    "            result -= 1 if in_str[widx-2] == 'd' else 0\n",
    "    if widx > 0 and in_str[widx] in j_token:\n",
    "        result -= 1 if in_str[widx-1] == 'l' or in_str[widx-1] == 'n' else 0\n",
    "\n",
    "print(result)"
   ]
  },
  {
   "cell_type": "code",
   "execution_count": null,
   "metadata": {},
   "outputs": [],
   "source": [
    "# https://www.acmicpc.net/problem/1316\n",
    "\n",
    "tc = int(input())\n",
    "result = tc\n",
    "\n",
    "for _ in range(tc):\n",
    "    now_count = [-1 for _ in range(ord('a'), ord('z')+1)]\n",
    "    in_str = list(str(input()))\n",
    "\n",
    "    for widx in range(len(in_str)):\n",
    "        if now_count[ord(in_str[widx])-ord('a')] == -1:\n",
    "            now_count[ord(in_str[widx])-ord('a')] = 1\n",
    "        elif in_str[widx] != in_str[widx-1]:\n",
    "            result -= 1\n",
    "            break\n",
    "\n",
    "print(result)"
   ]
  },
  {
   "cell_type": "code",
   "execution_count": null,
   "metadata": {},
   "outputs": [],
   "source": [
    "# https://www.acmicpc.net/problem/1712\n",
    "\n",
    "in_num = list(map(int,input().split()))\n",
    "if in_num[1] >= in_num[2]:\n",
    "    result = -1\n",
    "else:\n",
    "    result = (in_num[0] // (in_num[2] - in_num[1])) + 1\n",
    "print(result)"
   ]
  },
  {
   "cell_type": "code",
   "execution_count": null,
   "metadata": {},
   "outputs": [],
   "source": [
    "# https://www.acmicpc.net/problem/1193\n",
    "\n",
    "def find_pos(x):\n",
    "    for t in range(0, 10000):\n",
    "        if (t*(t+1)//2) < x and x <= ((t+1)*(t+2)//2):\n",
    "            return t, (t*(t+1)//2)\n",
    "\n",
    "in_num = int(input())\n",
    "t, real = find_pos(in_num)\n",
    "\n",
    "now_sum = t+2\n",
    "now_up = in_num - real if now_sum%2 == 1 else now_sum-(in_num - real)\n",
    "print(f\"{now_up}/{now_sum-now_up}\")"
   ]
  },
  {
   "cell_type": "code",
   "execution_count": null,
   "metadata": {},
   "outputs": [],
   "source": [
    "# https://www.acmicpc.net/problem/2869\n",
    "\n",
    "[a,b,v] = list(map(int,input().split()))\n",
    "\n",
    "dday_goal = v-a\n",
    "one_day_move = a-b\n",
    "print(1 + dday_goal//one_day_move + (1 if dday_goal%one_day_move != 0 else 0))"
   ]
  },
  {
   "cell_type": "code",
   "execution_count": null,
   "metadata": {},
   "outputs": [],
   "source": [
    "# https://www.acmicpc.net/problem/10250\n",
    "\n",
    "tc = int(input())\n",
    "\n",
    "for _ in range(tc):\n",
    "    [h,w,n] = list(map(int,input().split()))\n",
    "    b = format(((n-1)//h + 1),'02')\n",
    "    a = h if n%h == 0 else n%h\n",
    "    print(f\"{a}{b}\")"
   ]
  },
  {
   "cell_type": "code",
   "execution_count": null,
   "metadata": {},
   "outputs": [],
   "source": [
    "# https://www.acmicpc.net/problem/2775\n",
    "\n",
    "\"\"\"\n",
    "파스칼 삼각형 => 조합\n",
    "5   1   7                       5   6C6 7C6   \n",
    "4   1   6   21                  4   5C5 6C5 7C5 \n",
    "3   1   5   15  35              3   4C4 5C4 6C4 7C4\n",
    "2   1   4   10  20  35          2   3C3 4C3 5C3 6C3 7C3\n",
    "1   1   3   6   10  15  21      1   2C2 3C2 4C2 5C2 6C2 7C2\n",
    "0   1   2   3   4   5   6   7   0   1C1 2C1 3C1 4C1 5C1 6C1 7C1\n",
    "    1   1   1   1   1   1   1       0C0 1C0 2C0 3C0 4C0 5C0 6C0\n",
    "\"\"\"\n",
    "from math import comb\n",
    "\n",
    "tc = int(input())\n",
    "\n",
    "for _ in range(tc):\n",
    "    # n+k C k\n",
    "    k = int(input())+1\n",
    "    n = int(input())-1\n",
    "    print(comb(n+k,k))\n"
   ]
  },
  {
   "cell_type": "code",
   "execution_count": null,
   "metadata": {},
   "outputs": [],
   "source": [
    "# https://www.acmicpc.net/problem/2839\n",
    "\n",
    "\"\"\"\n",
    "x = 3a + 5b\n",
    "min(a+b)\n",
    "\"\"\"\n",
    "\n",
    "def make_pode(x):\n",
    "    result = 9999999\n",
    "    for a in range(x//3 + 1):\n",
    "        if (x - 3*a)%5 == 0:\n",
    "            now = a + (x - 3*a)//5\n",
    "            result = now if now < result else result\n",
    "    return result if result != 9999999 else -1\n",
    "\n",
    "x = int(input())\n",
    "print(make_pode(x))"
   ]
  },
  {
   "cell_type": "code",
   "execution_count": null,
   "metadata": {},
   "outputs": [],
   "source": [
    "# https://www.acmicpc.net/problem/10757\n",
    "\n",
    "[a, b] = list(map(str,input().split()))\n",
    "a, b = list(a), list(b)\n",
    "a.reverse()\n",
    "b.reverse()\n",
    "\n",
    "cal_range = max(len(a), len(b))\n",
    "while len(a) != len(b):\n",
    "    if len(a) < len(b):\n",
    "        a.append('0')\n",
    "    else:\n",
    "        b.append('0')\n",
    "\n",
    "result = []\n",
    "add_switch = False\n",
    "for idx in range(cal_range):\n",
    "    now_num = (int(a[idx]) + int(b[idx])) + (1 if add_switch else 0)\n",
    "    add_switch = False\n",
    "    result.append(f\"{now_num%10}\")\n",
    "    \n",
    "    add_switch = True if now_num//10 != 0 else False\n",
    "\n",
    "if add_switch:\n",
    "    result.append('1')\n",
    "\n",
    "result.reverse()\n",
    "\n",
    "print(''.join(result))"
   ]
  },
  {
   "source": [
    "# 시작 마크"
   ],
   "cell_type": "markdown",
   "metadata": {}
  },
  {
   "cell_type": "code",
   "execution_count": null,
   "metadata": {},
   "outputs": [],
   "source": [
    "# https://www.acmicpc.net/problem/1978\n",
    "\n",
    "# 이중 for문으로 찾을 수 있긴 한데, n^2이니까 걍 긁어옴\n",
    "\n",
    "prime_number = [2, 3, 5, 7, 11, 13, 17, 19, 23, 29, 31, 37, 41, 43, 47, 53, 59, 61, 67, 71, 73, 79, 83, 89, 97, 101, 103, 107, 109, 113, 127, 131, 137, 139, 149, 151, 157, 163, 167, 173, 179, 181, 191, 193, 197, 199, 211, 223, 227, 229, 233, 239, 241, 251, 257, 263, 269, 271, 277, 281, 283, 293, 307, 311, 313, 317, 331, 337, 347, 349, 353, 359, 367, 373, 379, 383, 389, 397, 401, 409, 419, 421, 431, 433, 439, 443, 449, 457, 461, 463, 467, 479, 487, 491, 499, 503, 509, 521, 523, 541, 547, 557, 563, 569, 571, 577, 587, 593, 599, 601, 607, 613, 617, 619, 631, 641, 643, 647, 653, 659, 661, 673, 677, 683, 691, 701, 709, 719, 727, 733, 739, 743, 751, 757, 761, 769, 773, 787, 797, 809, 811, 821, 823, 827, 829, 839, 853, 857, 859, 863, 877, 881, 883, 887, 907, 911, 919, 929, 937, 941, 947, 953, 967, 971, 977, 983, 991, 997]\n",
    "\n",
    "numnum = int(input())\n",
    "num_list = list(map(int,input().split()))\n",
    "result = 0\n",
    "for x in range(numnum):\n",
    "    result += 1 if num_list[x] in prime_number else 0\n",
    "print(result)"
   ]
  },
  {
   "cell_type": "code",
   "execution_count": null,
   "metadata": {},
   "outputs": [],
   "source": [
    "# https://www.acmicpc.net/problem/2581\n",
    "\n",
    "def check_prime(x):\n",
    "    result = True\n",
    "    if x == 1:\n",
    "        result = False\n",
    "    elif x == 2:\n",
    "        result = True\n",
    "    elif x%2 == 0: # 2가 아닌 짝수 \n",
    "        result = False\n",
    "    else:\n",
    "        for c in range(3, x//3 + 1):\n",
    "            if x%c == 0:\n",
    "                result=False\n",
    "                break\n",
    "    return result\n",
    "\n",
    "a = int(input())\n",
    "b = int(input())\n",
    "\n",
    "sum_v = 0\n",
    "min_v = -1\n",
    "\n",
    "for x in range(a, b+1):\n",
    "    if check_prime(x):\n",
    "        sum_v += x\n",
    "        if min_v == -1:\n",
    "            min_v = x\n",
    "\n",
    "if min_v == -1:\n",
    "    print(-1)\n",
    "else:\n",
    "    print(sum_v)\n",
    "    print(min_v)"
   ]
  },
  {
   "cell_type": "code",
   "execution_count": null,
   "metadata": {},
   "outputs": [],
   "source": [
    "# https://www.acmicpc.net/problem/11653\n",
    "\n",
    "a = int(input())\n",
    "\n",
    "now_c = 2\n",
    "while(a != 1):\n",
    "    if a%now_c != 0:\n",
    "        now_c+=1\n",
    "    else:\n",
    "        print(now_c)\n",
    "        a = a//now_c"
   ]
  },
  {
   "cell_type": "code",
   "execution_count": null,
   "metadata": {},
   "outputs": [],
   "source": [
    "# https://www.acmicpc.net/problem/1929\n",
    "\n",
    "def check_prime(x):\n",
    "    result = True\n",
    "    if x == 1:\n",
    "        result = False\n",
    "    elif x == 2:\n",
    "        result = True\n",
    "    elif x%2 == 0: # 2가 아닌 짝수 \n",
    "        result = False\n",
    "    else:\n",
    "        for c in range(3, int(x**(0.5))+1):\n",
    "            if x%c == 0:\n",
    "                result=False\n",
    "                break\n",
    "    return result\n",
    "\n",
    "[a,b] = list(map(int,input().split()))\n",
    "for x in range(a, b+1):\n",
    "    if check_prime(x):\n",
    "        print(x)"
   ]
  },
  {
   "cell_type": "code",
   "execution_count": null,
   "metadata": {},
   "outputs": [],
   "source": [
    "# https://www.acmicpc.net/problem/4948\n",
    "\n",
    "# https://velog.io/@tlsalsckd13/%EB%B0%B1%EC%A4%80-4948-%ED%8C%8C%EC%9D%B4%EC%8D%AC\n",
    "\n",
    "import math\n",
    "import sys\n",
    "def decimal(num):\n",
    "    if num == 1:\n",
    "        return False\n",
    "    for i in range(2, int(math.sqrt(num))+1):\n",
    "        if num / i == 1:\n",
    "            break\n",
    "        elif num % i == 0:\n",
    "            return False\n",
    "    return True\n",
    "\n",
    "natural_list = list(range(2, 246912))\n",
    "decimal_list = []\n",
    "for i in natural_list:\n",
    "    if decimal(i) == True:\n",
    "        decimal_list.append(i)\n",
    "\n",
    "num = int(sys.stdin.readline())\n",
    "while num != 0:\n",
    "    count = 0\n",
    "    for i in decimal_list:\n",
    "        if num < i <= num*2:\n",
    "            count += 1\n",
    "    print(count)\n",
    "    num = int(sys.stdin.readline())"
   ]
  },
  {
   "cell_type": "code",
   "execution_count": null,
   "metadata": {},
   "outputs": [],
   "source": [
    "# https://www.acmicpc.net/problem/9020\n",
    "\n",
    "def check_prime(x):\n",
    "    result = True\n",
    "    if x == 1:\n",
    "        result = False\n",
    "    elif x == 2:\n",
    "        result = True\n",
    "    elif x%2 == 0: # 2가 아닌 짝수 \n",
    "        result = False\n",
    "    else:\n",
    "        for c in range(3, int(x**(0.5))+1, 2):\n",
    "            if x%c == 0:\n",
    "                result=False\n",
    "                break\n",
    "    return result\n",
    "\n",
    "prime = [False for i in range(10001)]\n",
    "\n",
    "for x in range(2, 10000 + 1):\n",
    "    if check_prime(x):\n",
    "       prime[x] = True\n",
    "\n",
    "t = int(input())\n",
    "\n",
    "for _ in range(t):\n",
    "    a = int(input())\n",
    "    for x in range(a//2, 1, -1):\n",
    "        if prime[x] and prime[a-x]:\n",
    "            print(f\"{x} {a-x}\")\n",
    "            break"
   ]
  },
  {
   "cell_type": "code",
   "execution_count": null,
   "metadata": {},
   "outputs": [],
   "source": [
    "# https://www.acmicpc.net/problem/1085\n",
    "\n",
    "[x,y,w,h] = list(map(int,input().split()))\n",
    "print(min(min(w-x,x), min(h-y,y)))"
   ]
  },
  {
   "cell_type": "code",
   "execution_count": null,
   "metadata": {},
   "outputs": [],
   "source": [
    "# https://www.acmicpc.net/problem/3009\n",
    "\n",
    "x_ = []\n",
    "y_ = []\n",
    "for i in range(3):\n",
    "        x, y = map(int, input().split())\n",
    "        x_.append(x)\n",
    "        y_.append(y)\n",
    "for i in range(3):\n",
    "        if x_.count(x_[i]) == 1:\n",
    "                x = x_[i]\n",
    "        if y_.count(y_[i]) == 1:\n",
    "                y = y_[i]\n",
    "print(x, y)"
   ]
  },
  {
   "cell_type": "code",
   "execution_count": null,
   "metadata": {},
   "outputs": [],
   "source": [
    "# https://www.acmicpc.net/problem/4153\n",
    "while True:\n",
    "    [a,b,c] = sorted(list(map(int, input().split())))\n",
    "    if a == 0 and b == 0 and c == 0:\n",
    "        break\n",
    "\n",
    "    if c**2 == a**2 + b**2:\n",
    "        print('right')\n",
    "    else:\n",
    "        print('wrong')"
   ]
  },
  {
   "cell_type": "code",
   "execution_count": null,
   "metadata": {},
   "outputs": [],
   "source": [
    "# https://www.acmicpc.net/problem/3053\n",
    "import math\n",
    "\n",
    "a = float(input())\n",
    "\n",
    "print(math.pi * a**2)\n",
    "print(2 * a**2)"
   ]
  },
  {
   "cell_type": "code",
   "execution_count": null,
   "metadata": {},
   "outputs": [],
   "source": [
    "# https://www.acmicpc.net/problem/10872\n",
    "\n",
    "def factorial(x):\n",
    "    if x <= 1:\n",
    "        return 1\n",
    "    return x * factorial(x-1)\n",
    "\n",
    "print(factorial(int(input())))"
   ]
  },
  {
   "cell_type": "code",
   "execution_count": null,
   "metadata": {},
   "outputs": [],
   "source": [
    "# https://www.acmicpc.net/problem/10870\n",
    "\n",
    "def fibonacci(x):\n",
    "    if x == 0:\n",
    "        return 0\n",
    "    elif x == 1:\n",
    "        return 1\n",
    "    else:\n",
    "        return fibonacci(x-1) + fibonacci(x-2)\n",
    "\n",
    "print(fibonacci(int(input())))"
   ]
  },
  {
   "cell_type": "code",
   "execution_count": null,
   "metadata": {
    "tags": [
     "outputPrepend"
    ]
   },
   "outputs": [],
   "source": [
    "# https://www.acmicpc.net/problem/2447\n",
    "\n",
    "def star(x):\n",
    "    if x == 3:\n",
    "        result = ['***',\n",
    "                  '* *',\n",
    "                  '***']\n",
    "    else:\n",
    "        form = star(x//3)\n",
    "        spaceline = ''.join([' 'for _ in range(x//3)])\n",
    "        result = []\n",
    "        for p in range(3):\n",
    "            for q in range(x//3):\n",
    "                if p != 1:\n",
    "                    result.append(form[q] + form[q] + form[q])\n",
    "                else:\n",
    "                    result.append(form[q] + spaceline + form[q])\n",
    "\n",
    "    return result\n",
    "\n",
    "a = int(input())\n",
    "for l in star(a):\n",
    "    print(l)"
   ]
  },
  {
   "cell_type": "code",
   "execution_count": null,
   "metadata": {},
   "outputs": [],
   "source": [
    "# https://www.acmicpc.net/problem/11729\n",
    "\n",
    "class hanoi:\n",
    "    def __init__(self):\n",
    "        self.cnt = 0\n",
    "        self.log = []\n",
    "    def move(self, f, t):\n",
    "        self.log.append(f\"{f} {t}\")\n",
    "        self.cnt += 1\n",
    "    def hanoi_cal(self, x, f, t, by):\n",
    "        if x==1:\n",
    "            self.move(f, t)\n",
    "        else:\n",
    "            self.hanoi_cal(x-1, f, by, t)\n",
    "            self.move(f, t)\n",
    "            self.hanoi_cal(x-1, by, t, f)\n",
    "\n",
    "h = hanoi()\n",
    "a = int(input())\n",
    "\n",
    "h.hanoi_cal(a,1,3,2)\n",
    "\n",
    "print(h.cnt)\n",
    "for l in h.log:\n",
    "    print(l)"
   ]
  },
  {
   "cell_type": "code",
   "execution_count": null,
   "metadata": {},
   "outputs": [],
   "source": [
    "# https://www.acmicpc.net/problem/2798\n",
    "\n",
    "n, m = map(int,input().split())\n",
    "nums = list(map(int,input().split()))\n",
    "\n",
    "temp = 9999999\n",
    "result = -1\n",
    "for x in range(n):\n",
    "    for y in range(x+1,n):\n",
    "        for z in range(y+1,n):\n",
    "            nowv = nums[x] + nums[y] + nums[z]\n",
    "            if (abs(nowv - m) < temp) and (nowv <= m):\n",
    "                result = nowv\n",
    "                temp = abs(nowv - m)\n",
    "print(result)"
   ]
  },
  {
   "cell_type": "code",
   "execution_count": 4,
   "metadata": {},
   "outputs": [
    {
     "output_type": "stream",
     "name": "stdout",
     "text": [
      "198\n"
     ]
    }
   ],
   "source": [
    "# https://www.acmicpc.net/problem/2231\n",
    "\n",
    "a = int(input())\n",
    "result = 0\n",
    "\n",
    "for x in range(a-1, 0, -1):\n",
    "   if sum(map(int,list(str(a-x)))) == x:\n",
    "       result = a-x\n",
    "       break\n",
    "\n",
    "print(result)"
   ]
  }
 ]
}